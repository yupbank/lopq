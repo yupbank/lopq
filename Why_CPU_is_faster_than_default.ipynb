{
  "nbformat": 4,
  "nbformat_minor": 0,
  "metadata": {
    "colab": {
      "name": "Why CPU is faster than default.ipynb",
      "version": "0.3.2",
      "provenance": [],
      "collapsed_sections": [],
      "include_colab_link": true
    },
    "kernelspec": {
      "name": "python3",
      "display_name": "Python 3"
    },
    "accelerator": "GPU"
  },
  "cells": [
    {
      "cell_type": "markdown",
      "metadata": {
        "id": "view-in-github",
        "colab_type": "text"
      },
      "source": [
        "[View in Colaboratory](https://colab.research.google.com/github/yupbank/lopq/blob/master/Why_CPU_is_faster_than_default.ipynb)"
      ]
    },
    {
      "metadata": {
        "id": "3UI5rnNoSr_J",
        "colab_type": "code",
        "colab": {}
      },
      "cell_type": "code",
      "source": [
        "import tensorflow as tf\n",
        "from tensorflow.examples.tutorials.mnist import input_data"
      ],
      "execution_count": 0,
      "outputs": []
    },
    {
      "metadata": {
        "id": "Yg7_uRafTTBg",
        "colab_type": "code",
        "colab": {
          "base_uri": "https://localhost:8080/",
          "height": 272
        },
        "outputId": "9cb8ba51-8e03-4e17-a2c1-93f1b38c7ecc"
      },
      "cell_type": "code",
      "source": [
        "from tensorflow.python.client import device_lib\n",
        "device_lib.list_local_devices()"
      ],
      "execution_count": 7,
      "outputs": [
        {
          "output_type": "execute_result",
          "data": {
            "text/plain": [
              "[name: \"/device:CPU:0\"\n",
              " device_type: \"CPU\"\n",
              " memory_limit: 268435456\n",
              " locality {\n",
              " }\n",
              " incarnation: 11216782853092925110, name: \"/device:GPU:0\"\n",
              " device_type: \"GPU\"\n",
              " memory_limit: 235012096\n",
              " locality {\n",
              "   bus_id: 1\n",
              "   links {\n",
              "   }\n",
              " }\n",
              " incarnation: 7660283789262677534\n",
              " physical_device_desc: \"device: 0, name: Tesla K80, pci bus id: 0000:00:04.0, compute capability: 3.7\"]"
            ]
          },
          "metadata": {
            "tags": []
          },
          "execution_count": 7
        }
      ]
    },
    {
      "metadata": {
        "id": "RVzm8cLzS2SU",
        "colab_type": "code",
        "colab": {
          "base_uri": "https://localhost:8080/",
          "height": 340
        },
        "outputId": "9aca3dd1-294d-4f0b-96f9-69b7750b2640"
      },
      "cell_type": "code",
      "source": [
        "dataset = input_data.read_data_sets('data/fashion', source_url='http://fashion-mnist.s3-website.eu-central-1.amazonaws.com/')"
      ],
      "execution_count": 2,
      "outputs": [
        {
          "output_type": "stream",
          "text": [
            "WARNING:tensorflow:From <ipython-input-2-17d5ab5d8fe2>:1: read_data_sets (from tensorflow.contrib.learn.python.learn.datasets.mnist) is deprecated and will be removed in a future version.\n",
            "Instructions for updating:\n",
            "Please use alternatives such as official/mnist/dataset.py from tensorflow/models.\n",
            "WARNING:tensorflow:From /usr/local/lib/python3.6/dist-packages/tensorflow/contrib/learn/python/learn/datasets/mnist.py:260: maybe_download (from tensorflow.contrib.learn.python.learn.datasets.base) is deprecated and will be removed in a future version.\n",
            "Instructions for updating:\n",
            "Please write your own downloading logic.\n",
            "WARNING:tensorflow:From /usr/local/lib/python3.6/dist-packages/tensorflow/contrib/learn/python/learn/datasets/mnist.py:262: extract_images (from tensorflow.contrib.learn.python.learn.datasets.mnist) is deprecated and will be removed in a future version.\n",
            "Instructions for updating:\n",
            "Please use tf.data to implement this functionality.\n",
            "Extracting data/fashion/train-images-idx3-ubyte.gz\n",
            "WARNING:tensorflow:From /usr/local/lib/python3.6/dist-packages/tensorflow/contrib/learn/python/learn/datasets/mnist.py:267: extract_labels (from tensorflow.contrib.learn.python.learn.datasets.mnist) is deprecated and will be removed in a future version.\n",
            "Instructions for updating:\n",
            "Please use tf.data to implement this functionality.\n",
            "Extracting data/fashion/train-labels-idx1-ubyte.gz\n",
            "Extracting data/fashion/t10k-images-idx3-ubyte.gz\n",
            "Extracting data/fashion/t10k-labels-idx1-ubyte.gz\n",
            "WARNING:tensorflow:From /usr/local/lib/python3.6/dist-packages/tensorflow/contrib/learn/python/learn/datasets/mnist.py:290: DataSet.__init__ (from tensorflow.contrib.learn.python.learn.datasets.mnist) is deprecated and will be removed in a future version.\n",
            "Instructions for updating:\n",
            "Please use alternatives such as official/mnist/dataset.py from tensorflow/models.\n"
          ],
          "name": "stdout"
        }
      ]
    },
    {
      "metadata": {
        "id": "iXQJ4FoZS3rO",
        "colab_type": "code",
        "colab": {}
      },
      "cell_type": "code",
      "source": [
        "train_input_fn = tf.estimator.inputs.numpy_input_fn(\n",
        " x={\"x\":  dataset.train.images},\n",
        " y=dataset.train.labels.astype(tf.int32.as_numpy_dtype),\n",
        " num_epochs=None,\n",
        " batch_size=50,\n",
        " shuffle=True\n",
        ")"
      ],
      "execution_count": 0,
      "outputs": []
    },
    {
      "metadata": {
        "id": "WK0mho6TTERK",
        "colab_type": "code",
        "colab": {}
      },
      "cell_type": "code",
      "source": [
        "feature_columns = [tf.feature_column.numeric_column(\"x\", shape=[28, 28])]"
      ],
      "execution_count": 0,
      "outputs": []
    },
    {
      "metadata": {
        "id": "y0zinRouTIuE",
        "colab_type": "code",
        "colab": {
          "base_uri": "https://localhost:8080/",
          "height": 88
        },
        "outputId": "047fef6d-106d-4071-ce15-605991d9401b"
      },
      "cell_type": "code",
      "source": [
        "cpu_classifier = tf.estimator.DNNClassifier(\n",
        " feature_columns=feature_columns,\n",
        " hidden_units=[256, 32],\n",
        " n_classes=10,\n",
        " model_dir=\"./tmp/mnist_model_cpu\",\n",
        " config=tf.estimator.RunConfig(device_fn=lambda op: '/device:CPU:0')\n",
        ")\n",
        "\n",
        "\n",
        "classifier = tf.estimator.DNNClassifier(\n",
        " feature_columns=feature_columns,\n",
        " hidden_units=[256, 32],\n",
        " n_classes=10,\n",
        " model_dir=\"./tmp/mnist_model_gpu\",\n",
        ")\n"
      ],
      "execution_count": 8,
      "outputs": [
        {
          "output_type": "stream",
          "text": [
            "INFO:tensorflow:Using config: {'_model_dir': './tmp/mnist_model_cpu', '_tf_random_seed': None, '_save_summary_steps': 100, '_save_checkpoints_steps': None, '_save_checkpoints_secs': 600, '_session_config': None, '_keep_checkpoint_max': 5, '_keep_checkpoint_every_n_hours': 10000, '_log_step_count_steps': 100, '_train_distribute': None, '_device_fn': <function <lambda> at 0x7f146fa4cf28>, '_service': None, '_cluster_spec': <tensorflow.python.training.server_lib.ClusterSpec object at 0x7f146fa243c8>, '_task_type': 'worker', '_task_id': 0, '_global_id_in_cluster': 0, '_master': '', '_evaluation_master': '', '_is_chief': True, '_num_ps_replicas': 0, '_num_worker_replicas': 1}\n",
            "INFO:tensorflow:Using default config.\n",
            "INFO:tensorflow:Using config: {'_model_dir': './tmp/mnist_model_gpu', '_tf_random_seed': None, '_save_summary_steps': 100, '_save_checkpoints_steps': None, '_save_checkpoints_secs': 600, '_session_config': None, '_keep_checkpoint_max': 5, '_keep_checkpoint_every_n_hours': 10000, '_log_step_count_steps': 100, '_train_distribute': None, '_device_fn': None, '_service': None, '_cluster_spec': <tensorflow.python.training.server_lib.ClusterSpec object at 0x7f146fa24400>, '_task_type': 'worker', '_task_id': 0, '_global_id_in_cluster': 0, '_master': '', '_evaluation_master': '', '_is_chief': True, '_num_ps_replicas': 0, '_num_worker_replicas': 1}\n"
          ],
          "name": "stdout"
        }
      ]
    },
    {
      "metadata": {
        "id": "9NjmrTEHTXyk",
        "colab_type": "code",
        "colab": {
          "base_uri": "https://localhost:8080/",
          "height": 2006
        },
        "outputId": "12b5a875-3c68-4bf1-8c31-f9ea3eb701e9"
      },
      "cell_type": "code",
      "source": [
        "%timeit cpu_classifier.train(input_fn=train_input_fn, steps=1000)"
      ],
      "execution_count": 9,
      "outputs": [
        {
          "output_type": "stream",
          "text": [
            "INFO:tensorflow:Calling model_fn.\n",
            "INFO:tensorflow:Done calling model_fn.\n",
            "INFO:tensorflow:Create CheckpointSaverHook.\n",
            "INFO:tensorflow:Graph was finalized.\n",
            "INFO:tensorflow:Restoring parameters from ./tmp/mnist_model_cpu/model.ckpt-4000\n",
            "INFO:tensorflow:Running local_init_op.\n",
            "INFO:tensorflow:Done running local_init_op.\n",
            "INFO:tensorflow:Saving checkpoints for 4000 into ./tmp/mnist_model_cpu/model.ckpt.\n",
            "INFO:tensorflow:loss = 23.352251, step = 4001\n",
            "INFO:tensorflow:global_step/sec: 232.223\n",
            "INFO:tensorflow:loss = 13.7889805, step = 4101 (0.435 sec)\n",
            "INFO:tensorflow:global_step/sec: 246.615\n",
            "INFO:tensorflow:loss = 14.363632, step = 4201 (0.404 sec)\n",
            "INFO:tensorflow:global_step/sec: 317.363\n",
            "INFO:tensorflow:loss = 10.738883, step = 4301 (0.315 sec)\n",
            "INFO:tensorflow:global_step/sec: 282.712\n",
            "INFO:tensorflow:loss = 21.989735, step = 4401 (0.354 sec)\n",
            "INFO:tensorflow:global_step/sec: 213.896\n",
            "INFO:tensorflow:loss = 17.702831, step = 4501 (0.470 sec)\n",
            "INFO:tensorflow:global_step/sec: 240.839\n",
            "INFO:tensorflow:loss = 28.466955, step = 4601 (0.412 sec)\n",
            "INFO:tensorflow:global_step/sec: 280.131\n",
            "INFO:tensorflow:loss = 20.065113, step = 4701 (0.358 sec)\n",
            "INFO:tensorflow:global_step/sec: 269.336\n",
            "INFO:tensorflow:loss = 12.586838, step = 4801 (0.370 sec)\n",
            "INFO:tensorflow:global_step/sec: 174.901\n",
            "INFO:tensorflow:loss = 13.064917, step = 4901 (0.573 sec)\n",
            "INFO:tensorflow:Saving checkpoints for 5000 into ./tmp/mnist_model_cpu/model.ckpt.\n",
            "INFO:tensorflow:Loss for final step: 14.923763.\n",
            "INFO:tensorflow:Calling model_fn.\n",
            "INFO:tensorflow:Done calling model_fn.\n",
            "INFO:tensorflow:Create CheckpointSaverHook.\n",
            "INFO:tensorflow:Graph was finalized.\n",
            "INFO:tensorflow:Restoring parameters from ./tmp/mnist_model_cpu/model.ckpt-5000\n",
            "INFO:tensorflow:Running local_init_op.\n",
            "INFO:tensorflow:Done running local_init_op.\n",
            "INFO:tensorflow:Saving checkpoints for 5000 into ./tmp/mnist_model_cpu/model.ckpt.\n",
            "INFO:tensorflow:loss = 11.936863, step = 5001\n",
            "INFO:tensorflow:global_step/sec: 262.555\n",
            "INFO:tensorflow:loss = 23.774708, step = 5101 (0.383 sec)\n",
            "INFO:tensorflow:global_step/sec: 306.81\n",
            "INFO:tensorflow:loss = 22.821869, step = 5201 (0.327 sec)\n",
            "INFO:tensorflow:global_step/sec: 228.621\n",
            "INFO:tensorflow:loss = 6.385991, step = 5301 (0.437 sec)\n",
            "INFO:tensorflow:global_step/sec: 272.136\n",
            "INFO:tensorflow:loss = 15.729851, step = 5401 (0.368 sec)\n",
            "INFO:tensorflow:global_step/sec: 273.929\n",
            "INFO:tensorflow:loss = 25.385792, step = 5501 (0.371 sec)\n",
            "INFO:tensorflow:global_step/sec: 289.086\n",
            "INFO:tensorflow:loss = 13.354701, step = 5601 (0.340 sec)\n",
            "INFO:tensorflow:global_step/sec: 189.814\n",
            "INFO:tensorflow:loss = 23.104286, step = 5701 (0.527 sec)\n",
            "INFO:tensorflow:global_step/sec: 262.658\n",
            "INFO:tensorflow:loss = 15.664967, step = 5801 (0.381 sec)\n",
            "INFO:tensorflow:global_step/sec: 288.548\n",
            "INFO:tensorflow:loss = 20.902966, step = 5901 (0.348 sec)\n",
            "INFO:tensorflow:Saving checkpoints for 6000 into ./tmp/mnist_model_cpu/model.ckpt.\n",
            "INFO:tensorflow:Loss for final step: 11.942796.\n",
            "INFO:tensorflow:Calling model_fn.\n",
            "INFO:tensorflow:Done calling model_fn.\n",
            "INFO:tensorflow:Create CheckpointSaverHook.\n",
            "INFO:tensorflow:Graph was finalized.\n"
          ],
          "name": "stdout"
        },
        {
          "output_type": "stream",
          "text": [
            "INFO:tensorflow:Restoring parameters from ./tmp/mnist_model_cpu/model.ckpt-6000\n",
            "INFO:tensorflow:Running local_init_op.\n",
            "INFO:tensorflow:Done running local_init_op.\n",
            "INFO:tensorflow:Saving checkpoints for 6000 into ./tmp/mnist_model_cpu/model.ckpt.\n",
            "INFO:tensorflow:loss = 15.612285, step = 6001\n",
            "INFO:tensorflow:global_step/sec: 257.473\n",
            "INFO:tensorflow:loss = 9.792565, step = 6101 (0.391 sec)\n",
            "INFO:tensorflow:global_step/sec: 271.763\n",
            "INFO:tensorflow:loss = 8.448229, step = 6201 (0.368 sec)\n",
            "INFO:tensorflow:global_step/sec: 234.948\n",
            "INFO:tensorflow:loss = 16.583424, step = 6301 (0.429 sec)\n",
            "INFO:tensorflow:global_step/sec: 225.527\n",
            "INFO:tensorflow:loss = 11.94624, step = 6401 (0.439 sec)\n",
            "INFO:tensorflow:global_step/sec: 278.449\n",
            "INFO:tensorflow:loss = 11.780575, step = 6501 (0.365 sec)\n",
            "INFO:tensorflow:global_step/sec: 297.74\n",
            "INFO:tensorflow:loss = 13.169097, step = 6601 (0.330 sec)\n",
            "INFO:tensorflow:global_step/sec: 184.367\n",
            "INFO:tensorflow:loss = 10.577154, step = 6701 (0.550 sec)\n",
            "INFO:tensorflow:global_step/sec: 253.794\n",
            "INFO:tensorflow:loss = 11.408473, step = 6801 (0.391 sec)\n",
            "INFO:tensorflow:global_step/sec: 284.114\n",
            "INFO:tensorflow:loss = 19.790138, step = 6901 (0.351 sec)\n",
            "INFO:tensorflow:Saving checkpoints for 7000 into ./tmp/mnist_model_cpu/model.ckpt.\n",
            "INFO:tensorflow:Loss for final step: 11.595692.\n",
            "INFO:tensorflow:Calling model_fn.\n",
            "INFO:tensorflow:Done calling model_fn.\n",
            "INFO:tensorflow:Create CheckpointSaverHook.\n",
            "INFO:tensorflow:Graph was finalized.\n",
            "INFO:tensorflow:Restoring parameters from ./tmp/mnist_model_cpu/model.ckpt-7000\n",
            "INFO:tensorflow:Running local_init_op.\n",
            "INFO:tensorflow:Done running local_init_op.\n",
            "INFO:tensorflow:Saving checkpoints for 7000 into ./tmp/mnist_model_cpu/model.ckpt.\n",
            "INFO:tensorflow:loss = 16.457216, step = 7001\n",
            "INFO:tensorflow:global_step/sec: 182.165\n",
            "INFO:tensorflow:loss = 16.035347, step = 7101 (0.552 sec)\n",
            "INFO:tensorflow:global_step/sec: 272.783\n",
            "INFO:tensorflow:loss = 9.733315, step = 7201 (0.366 sec)\n",
            "INFO:tensorflow:global_step/sec: 272.021\n",
            "INFO:tensorflow:loss = 13.415046, step = 7301 (0.372 sec)\n",
            "INFO:tensorflow:global_step/sec: 286.171\n",
            "INFO:tensorflow:loss = 7.4757767, step = 7401 (0.347 sec)\n",
            "INFO:tensorflow:global_step/sec: 181.874\n",
            "INFO:tensorflow:loss = 11.069225, step = 7501 (0.547 sec)\n",
            "INFO:tensorflow:global_step/sec: 284.813\n",
            "INFO:tensorflow:loss = 12.577349, step = 7601 (0.351 sec)\n",
            "INFO:tensorflow:global_step/sec: 284.315\n",
            "INFO:tensorflow:loss = 7.827959, step = 7701 (0.353 sec)\n",
            "INFO:tensorflow:global_step/sec: 195.178\n",
            "INFO:tensorflow:loss = 18.474417, step = 7801 (0.519 sec)\n",
            "INFO:tensorflow:global_step/sec: 257.824\n",
            "INFO:tensorflow:loss = 15.740043, step = 7901 (0.385 sec)\n",
            "INFO:tensorflow:Saving checkpoints for 8000 into ./tmp/mnist_model_cpu/model.ckpt.\n",
            "INFO:tensorflow:Loss for final step: 17.375648.\n",
            "1 loop, best of 3: 4.93 s per loop\n"
          ],
          "name": "stdout"
        }
      ]
    },
    {
      "metadata": {
        "id": "bLVjf851TaKO",
        "colab_type": "code",
        "colab": {
          "base_uri": "https://localhost:8080/",
          "height": 2006
        },
        "outputId": "1d014bd2-169f-4ea3-8423-d4d342092a91"
      },
      "cell_type": "code",
      "source": [
        "%timeit classifier.train(input_fn=train_input_fn, steps=1000)"
      ],
      "execution_count": 10,
      "outputs": [
        {
          "output_type": "stream",
          "text": [
            "INFO:tensorflow:Calling model_fn.\n",
            "INFO:tensorflow:Done calling model_fn.\n",
            "INFO:tensorflow:Create CheckpointSaverHook.\n",
            "INFO:tensorflow:Graph was finalized.\n",
            "INFO:tensorflow:Restoring parameters from ./tmp/mnist_model_gpu/model.ckpt-4000\n",
            "INFO:tensorflow:Running local_init_op.\n",
            "INFO:tensorflow:Done running local_init_op.\n",
            "INFO:tensorflow:Saving checkpoints for 4000 into ./tmp/mnist_model_gpu/model.ckpt.\n",
            "INFO:tensorflow:loss = 9.839943, step = 4000\n",
            "INFO:tensorflow:global_step/sec: 164.991\n",
            "INFO:tensorflow:loss = 22.59806, step = 4100 (0.609 sec)\n",
            "INFO:tensorflow:global_step/sec: 252.981\n",
            "INFO:tensorflow:loss = 17.277948, step = 4200 (0.395 sec)\n",
            "INFO:tensorflow:global_step/sec: 255.426\n",
            "INFO:tensorflow:loss = 11.57522, step = 4300 (0.396 sec)\n",
            "INFO:tensorflow:global_step/sec: 190.665\n",
            "INFO:tensorflow:loss = 9.186974, step = 4400 (0.525 sec)\n",
            "INFO:tensorflow:global_step/sec: 229.292\n",
            "INFO:tensorflow:loss = 18.096397, step = 4500 (0.436 sec)\n",
            "INFO:tensorflow:global_step/sec: 232.383\n",
            "INFO:tensorflow:loss = 38.29216, step = 4600 (0.425 sec)\n",
            "INFO:tensorflow:global_step/sec: 211.956\n",
            "INFO:tensorflow:loss = 16.676788, step = 4700 (0.478 sec)\n",
            "INFO:tensorflow:global_step/sec: 189.276\n",
            "INFO:tensorflow:loss = 7.038211, step = 4800 (0.523 sec)\n",
            "INFO:tensorflow:global_step/sec: 253.753\n",
            "INFO:tensorflow:loss = 20.032383, step = 4900 (0.398 sec)\n",
            "INFO:tensorflow:Saving checkpoints for 5000 into ./tmp/mnist_model_gpu/model.ckpt.\n",
            "INFO:tensorflow:Loss for final step: 12.674032.\n",
            "INFO:tensorflow:Calling model_fn.\n",
            "INFO:tensorflow:Done calling model_fn.\n",
            "INFO:tensorflow:Create CheckpointSaverHook.\n",
            "INFO:tensorflow:Graph was finalized.\n",
            "INFO:tensorflow:Restoring parameters from ./tmp/mnist_model_gpu/model.ckpt-5000\n",
            "INFO:tensorflow:Running local_init_op.\n",
            "INFO:tensorflow:Done running local_init_op.\n",
            "INFO:tensorflow:Saving checkpoints for 5000 into ./tmp/mnist_model_gpu/model.ckpt.\n",
            "INFO:tensorflow:loss = 15.31676, step = 5000\n",
            "INFO:tensorflow:global_step/sec: 227.727\n",
            "INFO:tensorflow:loss = 13.545636, step = 5100 (0.444 sec)\n",
            "INFO:tensorflow:global_step/sec: 242.554\n",
            "INFO:tensorflow:loss = 12.232112, step = 5200 (0.415 sec)\n",
            "INFO:tensorflow:global_step/sec: 166.745\n",
            "INFO:tensorflow:loss = 22.180159, step = 5300 (0.603 sec)\n",
            "INFO:tensorflow:global_step/sec: 230.337\n",
            "INFO:tensorflow:loss = 9.101282, step = 5400 (0.434 sec)\n",
            "INFO:tensorflow:global_step/sec: 242.545\n",
            "INFO:tensorflow:loss = 9.961227, step = 5500 (0.406 sec)\n",
            "INFO:tensorflow:global_step/sec: 189.16\n",
            "INFO:tensorflow:loss = 12.35343, step = 5600 (0.532 sec)\n",
            "INFO:tensorflow:global_step/sec: 231.89\n",
            "INFO:tensorflow:loss = 18.191158, step = 5700 (0.431 sec)\n",
            "INFO:tensorflow:global_step/sec: 252.106\n",
            "INFO:tensorflow:loss = 17.805191, step = 5800 (0.392 sec)\n",
            "INFO:tensorflow:global_step/sec: 207.106\n",
            "INFO:tensorflow:loss = 15.089855, step = 5900 (0.496 sec)\n",
            "INFO:tensorflow:Saving checkpoints for 6000 into ./tmp/mnist_model_gpu/model.ckpt.\n",
            "INFO:tensorflow:Loss for final step: 21.054398.\n",
            "INFO:tensorflow:Calling model_fn.\n",
            "INFO:tensorflow:Done calling model_fn.\n",
            "INFO:tensorflow:Create CheckpointSaverHook.\n",
            "INFO:tensorflow:Graph was finalized.\n"
          ],
          "name": "stdout"
        },
        {
          "output_type": "stream",
          "text": [
            "INFO:tensorflow:Restoring parameters from ./tmp/mnist_model_gpu/model.ckpt-6000\n",
            "INFO:tensorflow:Running local_init_op.\n",
            "INFO:tensorflow:Done running local_init_op.\n",
            "INFO:tensorflow:Saving checkpoints for 6000 into ./tmp/mnist_model_gpu/model.ckpt.\n",
            "INFO:tensorflow:loss = 12.175905, step = 6000\n",
            "INFO:tensorflow:global_step/sec: 210.98\n",
            "INFO:tensorflow:loss = 17.02681, step = 6100 (0.482 sec)\n",
            "INFO:tensorflow:global_step/sec: 231.747\n",
            "INFO:tensorflow:loss = 14.708805, step = 6200 (0.428 sec)\n",
            "INFO:tensorflow:global_step/sec: 161.912\n",
            "INFO:tensorflow:loss = 15.570496, step = 6300 (0.616 sec)\n",
            "INFO:tensorflow:global_step/sec: 248.341\n",
            "INFO:tensorflow:loss = 23.621029, step = 6400 (0.402 sec)\n",
            "INFO:tensorflow:global_step/sec: 253.103\n",
            "INFO:tensorflow:loss = 7.126034, step = 6500 (0.397 sec)\n",
            "INFO:tensorflow:global_step/sec: 179.562\n",
            "INFO:tensorflow:loss = 7.748824, step = 6600 (0.557 sec)\n",
            "INFO:tensorflow:global_step/sec: 248.643\n",
            "INFO:tensorflow:loss = 18.293066, step = 6700 (0.403 sec)\n",
            "INFO:tensorflow:global_step/sec: 250.987\n",
            "INFO:tensorflow:loss = 16.259607, step = 6800 (0.399 sec)\n",
            "INFO:tensorflow:global_step/sec: 171.684\n",
            "INFO:tensorflow:loss = 10.190366, step = 6900 (0.584 sec)\n",
            "INFO:tensorflow:Saving checkpoints for 7000 into ./tmp/mnist_model_gpu/model.ckpt.\n",
            "INFO:tensorflow:Loss for final step: 9.974689.\n",
            "INFO:tensorflow:Calling model_fn.\n",
            "INFO:tensorflow:Done calling model_fn.\n",
            "INFO:tensorflow:Create CheckpointSaverHook.\n",
            "INFO:tensorflow:Graph was finalized.\n",
            "INFO:tensorflow:Restoring parameters from ./tmp/mnist_model_gpu/model.ckpt-7000\n",
            "INFO:tensorflow:Running local_init_op.\n",
            "INFO:tensorflow:Done running local_init_op.\n",
            "INFO:tensorflow:Saving checkpoints for 7000 into ./tmp/mnist_model_gpu/model.ckpt.\n",
            "INFO:tensorflow:loss = 20.040407, step = 7000\n",
            "INFO:tensorflow:global_step/sec: 222.258\n",
            "INFO:tensorflow:loss = 14.700111, step = 7100 (0.455 sec)\n",
            "INFO:tensorflow:global_step/sec: 251.562\n",
            "INFO:tensorflow:loss = 12.812019, step = 7200 (0.399 sec)\n",
            "INFO:tensorflow:global_step/sec: 171.448\n",
            "INFO:tensorflow:loss = 13.046282, step = 7300 (0.579 sec)\n",
            "INFO:tensorflow:global_step/sec: 250.495\n",
            "INFO:tensorflow:loss = 17.182896, step = 7400 (0.401 sec)\n",
            "INFO:tensorflow:global_step/sec: 246.451\n",
            "INFO:tensorflow:loss = 14.483944, step = 7500 (0.409 sec)\n",
            "INFO:tensorflow:global_step/sec: 179.266\n",
            "INFO:tensorflow:loss = 17.032858, step = 7600 (0.558 sec)\n",
            "INFO:tensorflow:global_step/sec: 237.603\n",
            "INFO:tensorflow:loss = 21.261753, step = 7700 (0.419 sec)\n",
            "INFO:tensorflow:global_step/sec: 241.647\n",
            "INFO:tensorflow:loss = 13.4758, step = 7800 (0.410 sec)\n",
            "INFO:tensorflow:global_step/sec: 252.127\n",
            "INFO:tensorflow:loss = 15.90314, step = 7900 (0.396 sec)\n",
            "INFO:tensorflow:Saving checkpoints for 8000 into ./tmp/mnist_model_gpu/model.ckpt.\n",
            "INFO:tensorflow:Loss for final step: 11.623631.\n",
            "1 loop, best of 3: 5.63 s per loop\n"
          ],
          "name": "stdout"
        }
      ]
    },
    {
      "metadata": {
        "id": "jcdtmC42Tcc-",
        "colab_type": "code",
        "colab": {
          "base_uri": "https://localhost:8080/",
          "height": 88
        },
        "outputId": "5b8af966-458b-4b63-bc43-c73741157429"
      },
      "cell_type": "code",
      "source": [
        "cpu_classifier_bigger = tf.estimator.DNNClassifier(\n",
        " feature_columns=feature_columns,\n",
        " hidden_units=[256, 128, 64, 32],\n",
        " n_classes=10,\n",
        " model_dir=\"./tmp/mnist_model_cpu_bigger\",\n",
        " config=tf.estimator.RunConfig(device_fn=lambda op: '/device:CPU:0')\n",
        ")\n",
        "\n",
        "\n",
        "classifier_bigger = tf.estimator.DNNClassifier(\n",
        " feature_columns=feature_columns,\n",
        " hidden_units=[256, 128, 64, 32],\n",
        " n_classes=10,\n",
        " model_dir=\"./tmp/mnist_model_gpu_bigger\",\n",
        ")\n"
      ],
      "execution_count": 13,
      "outputs": [
        {
          "output_type": "stream",
          "text": [
            "INFO:tensorflow:Using config: {'_model_dir': './tmp/mnist_model_cpu_bigger', '_tf_random_seed': None, '_save_summary_steps': 100, '_save_checkpoints_steps': None, '_save_checkpoints_secs': 600, '_session_config': None, '_keep_checkpoint_max': 5, '_keep_checkpoint_every_n_hours': 10000, '_log_step_count_steps': 100, '_train_distribute': None, '_device_fn': <function <lambda> at 0x7f1468bf6488>, '_service': None, '_cluster_spec': <tensorflow.python.training.server_lib.ClusterSpec object at 0x7f1468815588>, '_task_type': 'worker', '_task_id': 0, '_global_id_in_cluster': 0, '_master': '', '_evaluation_master': '', '_is_chief': True, '_num_ps_replicas': 0, '_num_worker_replicas': 1}\n",
            "INFO:tensorflow:Using default config.\n",
            "INFO:tensorflow:Using config: {'_model_dir': './tmp/mnist_model_gpu_bigger', '_tf_random_seed': None, '_save_summary_steps': 100, '_save_checkpoints_steps': None, '_save_checkpoints_secs': 600, '_session_config': None, '_keep_checkpoint_max': 5, '_keep_checkpoint_every_n_hours': 10000, '_log_step_count_steps': 100, '_train_distribute': None, '_device_fn': None, '_service': None, '_cluster_spec': <tensorflow.python.training.server_lib.ClusterSpec object at 0x7f1468815438>, '_task_type': 'worker', '_task_id': 0, '_global_id_in_cluster': 0, '_master': '', '_evaluation_master': '', '_is_chief': True, '_num_ps_replicas': 0, '_num_worker_replicas': 1}\n"
          ],
          "name": "stdout"
        }
      ]
    },
    {
      "metadata": {
        "id": "TqwjEySHZqml",
        "colab_type": "code",
        "colab": {
          "base_uri": "https://localhost:8080/",
          "height": 1989
        },
        "outputId": "a5c51446-aa52-4512-ba51-00345b4f6840"
      },
      "cell_type": "code",
      "source": [
        "%timeit cpu_classifier_bigger.train(input_fn=train_input_fn, steps=1000)"
      ],
      "execution_count": 14,
      "outputs": [
        {
          "output_type": "stream",
          "text": [
            "INFO:tensorflow:Calling model_fn.\n",
            "INFO:tensorflow:Done calling model_fn.\n",
            "INFO:tensorflow:Create CheckpointSaverHook.\n",
            "INFO:tensorflow:Graph was finalized.\n",
            "INFO:tensorflow:Running local_init_op.\n",
            "INFO:tensorflow:Done running local_init_op.\n",
            "INFO:tensorflow:Saving checkpoints for 0 into ./tmp/mnist_model_cpu_bigger/model.ckpt.\n",
            "INFO:tensorflow:loss = 112.49212, step = 1\n",
            "INFO:tensorflow:global_step/sec: 163.366\n",
            "INFO:tensorflow:loss = 37.237617, step = 101 (0.614 sec)\n",
            "INFO:tensorflow:global_step/sec: 195.923\n",
            "INFO:tensorflow:loss = 30.98278, step = 201 (0.515 sec)\n",
            "INFO:tensorflow:global_step/sec: 189.69\n",
            "INFO:tensorflow:loss = 21.115583, step = 301 (0.523 sec)\n",
            "INFO:tensorflow:global_step/sec: 149.646\n",
            "INFO:tensorflow:loss = 16.968573, step = 401 (0.677 sec)\n",
            "INFO:tensorflow:global_step/sec: 176.244\n",
            "INFO:tensorflow:loss = 25.779076, step = 501 (0.559 sec)\n",
            "INFO:tensorflow:global_step/sec: 153.898\n",
            "INFO:tensorflow:loss = 25.937902, step = 601 (0.653 sec)\n",
            "INFO:tensorflow:global_step/sec: 167.104\n",
            "INFO:tensorflow:loss = 26.645021, step = 701 (0.595 sec)\n",
            "INFO:tensorflow:global_step/sec: 162.499\n",
            "INFO:tensorflow:loss = 19.705673, step = 801 (0.616 sec)\n",
            "INFO:tensorflow:global_step/sec: 133.851\n",
            "INFO:tensorflow:loss = 12.1024065, step = 901 (0.748 sec)\n",
            "INFO:tensorflow:Saving checkpoints for 1000 into ./tmp/mnist_model_cpu_bigger/model.ckpt.\n",
            "INFO:tensorflow:Loss for final step: 18.597393.\n",
            "INFO:tensorflow:Calling model_fn.\n",
            "INFO:tensorflow:Done calling model_fn.\n",
            "INFO:tensorflow:Create CheckpointSaverHook.\n",
            "INFO:tensorflow:Graph was finalized.\n",
            "INFO:tensorflow:Restoring parameters from ./tmp/mnist_model_cpu_bigger/model.ckpt-1000\n",
            "INFO:tensorflow:Running local_init_op.\n",
            "INFO:tensorflow:Done running local_init_op.\n",
            "INFO:tensorflow:Saving checkpoints for 1000 into ./tmp/mnist_model_cpu_bigger/model.ckpt.\n",
            "INFO:tensorflow:loss = 21.901285, step = 1001\n",
            "INFO:tensorflow:global_step/sec: 116.888\n",
            "INFO:tensorflow:loss = 27.447422, step = 1101 (0.867 sec)\n",
            "INFO:tensorflow:global_step/sec: 126.784\n",
            "INFO:tensorflow:loss = 15.443235, step = 1201 (0.784 sec)\n",
            "INFO:tensorflow:global_step/sec: 138.744\n",
            "INFO:tensorflow:loss = 11.275019, step = 1301 (0.719 sec)\n",
            "INFO:tensorflow:global_step/sec: 135.009\n",
            "INFO:tensorflow:loss = 20.915695, step = 1401 (0.752 sec)\n",
            "INFO:tensorflow:global_step/sec: 148.553\n",
            "INFO:tensorflow:loss = 35.179474, step = 1501 (0.667 sec)\n",
            "INFO:tensorflow:global_step/sec: 179.637\n",
            "INFO:tensorflow:loss = 20.254656, step = 1601 (0.555 sec)\n",
            "INFO:tensorflow:global_step/sec: 142.457\n",
            "INFO:tensorflow:loss = 12.813045, step = 1701 (0.704 sec)\n",
            "INFO:tensorflow:global_step/sec: 173.801\n",
            "INFO:tensorflow:loss = 21.452888, step = 1801 (0.569 sec)\n",
            "INFO:tensorflow:global_step/sec: 170.48\n",
            "INFO:tensorflow:loss = 9.943466, step = 1901 (0.594 sec)\n",
            "INFO:tensorflow:Saving checkpoints for 2000 into ./tmp/mnist_model_cpu_bigger/model.ckpt.\n",
            "INFO:tensorflow:Loss for final step: 8.091086.\n",
            "INFO:tensorflow:Calling model_fn.\n",
            "INFO:tensorflow:Done calling model_fn.\n",
            "INFO:tensorflow:Create CheckpointSaverHook.\n",
            "INFO:tensorflow:Graph was finalized.\n",
            "INFO:tensorflow:Restoring parameters from ./tmp/mnist_model_cpu_bigger/model.ckpt-2000\n",
            "INFO:tensorflow:Running local_init_op.\n"
          ],
          "name": "stdout"
        },
        {
          "output_type": "stream",
          "text": [
            "INFO:tensorflow:Done running local_init_op.\n",
            "INFO:tensorflow:Saving checkpoints for 2000 into ./tmp/mnist_model_cpu_bigger/model.ckpt.\n",
            "INFO:tensorflow:loss = 21.977283, step = 2001\n",
            "INFO:tensorflow:global_step/sec: 185.409\n",
            "INFO:tensorflow:loss = 7.9658475, step = 2101 (0.542 sec)\n",
            "INFO:tensorflow:global_step/sec: 235.332\n",
            "INFO:tensorflow:loss = 22.594048, step = 2201 (0.424 sec)\n",
            "INFO:tensorflow:global_step/sec: 164.484\n",
            "INFO:tensorflow:loss = 18.157295, step = 2301 (0.609 sec)\n",
            "INFO:tensorflow:global_step/sec: 194.545\n",
            "INFO:tensorflow:loss = 14.690557, step = 2401 (0.514 sec)\n",
            "INFO:tensorflow:global_step/sec: 158.209\n",
            "INFO:tensorflow:loss = 24.390556, step = 2501 (0.635 sec)\n",
            "INFO:tensorflow:global_step/sec: 165.137\n",
            "INFO:tensorflow:loss = 23.30033, step = 2601 (0.606 sec)\n",
            "INFO:tensorflow:global_step/sec: 198.708\n",
            "INFO:tensorflow:loss = 15.758028, step = 2701 (0.500 sec)\n",
            "INFO:tensorflow:global_step/sec: 161.661\n",
            "INFO:tensorflow:loss = 22.194485, step = 2801 (0.619 sec)\n",
            "INFO:tensorflow:global_step/sec: 192.328\n",
            "INFO:tensorflow:loss = 16.115147, step = 2901 (0.519 sec)\n",
            "INFO:tensorflow:Saving checkpoints for 3000 into ./tmp/mnist_model_cpu_bigger/model.ckpt.\n",
            "INFO:tensorflow:Loss for final step: 12.947575.\n",
            "INFO:tensorflow:Calling model_fn.\n",
            "INFO:tensorflow:Done calling model_fn.\n",
            "INFO:tensorflow:Create CheckpointSaverHook.\n",
            "INFO:tensorflow:Graph was finalized.\n",
            "INFO:tensorflow:Restoring parameters from ./tmp/mnist_model_cpu_bigger/model.ckpt-3000\n",
            "INFO:tensorflow:Running local_init_op.\n",
            "INFO:tensorflow:Done running local_init_op.\n",
            "INFO:tensorflow:Saving checkpoints for 3000 into ./tmp/mnist_model_cpu_bigger/model.ckpt.\n",
            "INFO:tensorflow:loss = 9.915837, step = 3001\n",
            "INFO:tensorflow:global_step/sec: 154.231\n",
            "INFO:tensorflow:loss = 21.907097, step = 3101 (0.653 sec)\n",
            "INFO:tensorflow:global_step/sec: 154.939\n",
            "INFO:tensorflow:loss = 21.197786, step = 3201 (0.644 sec)\n",
            "INFO:tensorflow:global_step/sec: 174.828\n",
            "INFO:tensorflow:loss = 17.427483, step = 3301 (0.577 sec)\n",
            "INFO:tensorflow:global_step/sec: 159.704\n",
            "INFO:tensorflow:loss = 20.816853, step = 3401 (0.623 sec)\n",
            "INFO:tensorflow:global_step/sec: 188.861\n",
            "INFO:tensorflow:loss = 21.698942, step = 3501 (0.533 sec)\n",
            "INFO:tensorflow:global_step/sec: 186.745\n",
            "INFO:tensorflow:loss = 16.985891, step = 3601 (0.530 sec)\n",
            "INFO:tensorflow:global_step/sec: 174.286\n",
            "INFO:tensorflow:loss = 14.550728, step = 3701 (0.574 sec)\n",
            "INFO:tensorflow:global_step/sec: 185.481\n",
            "INFO:tensorflow:loss = 10.821578, step = 3801 (0.538 sec)\n",
            "INFO:tensorflow:global_step/sec: 207.85\n",
            "INFO:tensorflow:loss = 23.528402, step = 3901 (0.482 sec)\n",
            "INFO:tensorflow:Saving checkpoints for 4000 into ./tmp/mnist_model_cpu_bigger/model.ckpt.\n",
            "INFO:tensorflow:Loss for final step: 18.001255.\n",
            "1 loop, best of 3: 7.33 s per loop\n"
          ],
          "name": "stdout"
        }
      ]
    },
    {
      "metadata": {
        "id": "DloI5nUsZs9o",
        "colab_type": "code",
        "colab": {
          "base_uri": "https://localhost:8080/",
          "height": 1989
        },
        "outputId": "69423c09-2598-497a-e62e-78ab63b6a415"
      },
      "cell_type": "code",
      "source": [
        "%timeit classifier_bigger.train(input_fn=train_input_fn, steps=1000)"
      ],
      "execution_count": 15,
      "outputs": [
        {
          "output_type": "stream",
          "text": [
            "INFO:tensorflow:Calling model_fn.\n",
            "INFO:tensorflow:Done calling model_fn.\n",
            "INFO:tensorflow:Create CheckpointSaverHook.\n",
            "INFO:tensorflow:Graph was finalized.\n",
            "INFO:tensorflow:Running local_init_op.\n",
            "INFO:tensorflow:Done running local_init_op.\n",
            "INFO:tensorflow:Saving checkpoints for 0 into ./tmp/mnist_model_gpu_bigger/model.ckpt.\n",
            "INFO:tensorflow:loss = 115.72809, step = 0\n",
            "INFO:tensorflow:global_step/sec: 157.483\n",
            "INFO:tensorflow:loss = 47.473045, step = 100 (0.644 sec)\n",
            "INFO:tensorflow:global_step/sec: 148.508\n",
            "INFO:tensorflow:loss = 27.709732, step = 200 (0.671 sec)\n",
            "INFO:tensorflow:global_step/sec: 187.576\n",
            "INFO:tensorflow:loss = 18.598797, step = 300 (0.532 sec)\n",
            "INFO:tensorflow:global_step/sec: 223.362\n",
            "INFO:tensorflow:loss = 34.46441, step = 400 (0.445 sec)\n",
            "INFO:tensorflow:global_step/sec: 173.612\n",
            "INFO:tensorflow:loss = 23.297487, step = 500 (0.592 sec)\n",
            "INFO:tensorflow:global_step/sec: 158.541\n",
            "INFO:tensorflow:loss = 37.1261, step = 600 (0.622 sec)\n",
            "INFO:tensorflow:global_step/sec: 171.688\n",
            "INFO:tensorflow:loss = 19.544321, step = 700 (0.585 sec)\n",
            "INFO:tensorflow:global_step/sec: 129.396\n",
            "INFO:tensorflow:loss = 26.012835, step = 800 (0.776 sec)\n",
            "INFO:tensorflow:global_step/sec: 172.85\n",
            "INFO:tensorflow:loss = 28.826881, step = 900 (0.571 sec)\n",
            "INFO:tensorflow:Saving checkpoints for 1000 into ./tmp/mnist_model_gpu_bigger/model.ckpt.\n",
            "INFO:tensorflow:Loss for final step: 30.342299.\n",
            "INFO:tensorflow:Calling model_fn.\n",
            "INFO:tensorflow:Done calling model_fn.\n",
            "INFO:tensorflow:Create CheckpointSaverHook.\n",
            "INFO:tensorflow:Graph was finalized.\n",
            "INFO:tensorflow:Restoring parameters from ./tmp/mnist_model_gpu_bigger/model.ckpt-1000\n",
            "INFO:tensorflow:Running local_init_op.\n",
            "INFO:tensorflow:Done running local_init_op.\n",
            "INFO:tensorflow:Saving checkpoints for 1000 into ./tmp/mnist_model_gpu_bigger/model.ckpt.\n",
            "INFO:tensorflow:loss = 26.73225, step = 1000\n",
            "INFO:tensorflow:global_step/sec: 138.772\n",
            "INFO:tensorflow:loss = 16.62487, step = 1100 (0.725 sec)\n",
            "INFO:tensorflow:global_step/sec: 184.082\n",
            "INFO:tensorflow:loss = 23.13285, step = 1200 (0.549 sec)\n",
            "INFO:tensorflow:global_step/sec: 205.793\n",
            "INFO:tensorflow:loss = 12.8060465, step = 1300 (0.484 sec)\n",
            "INFO:tensorflow:global_step/sec: 152.856\n",
            "INFO:tensorflow:loss = 32.83391, step = 1400 (0.652 sec)\n",
            "INFO:tensorflow:global_step/sec: 187.935\n",
            "INFO:tensorflow:loss = 19.944408, step = 1500 (0.534 sec)\n",
            "INFO:tensorflow:global_step/sec: 149.96\n",
            "INFO:tensorflow:loss = 19.021238, step = 1600 (0.665 sec)\n",
            "INFO:tensorflow:global_step/sec: 189.969\n",
            "INFO:tensorflow:loss = 16.152752, step = 1700 (0.523 sec)\n",
            "INFO:tensorflow:global_step/sec: 184.329\n",
            "INFO:tensorflow:loss = 12.3845, step = 1800 (0.547 sec)\n",
            "INFO:tensorflow:global_step/sec: 161.729\n",
            "INFO:tensorflow:loss = 16.106606, step = 1900 (0.619 sec)\n",
            "INFO:tensorflow:Saving checkpoints for 2000 into ./tmp/mnist_model_gpu_bigger/model.ckpt.\n",
            "INFO:tensorflow:Loss for final step: 16.934063.\n",
            "INFO:tensorflow:Calling model_fn.\n",
            "INFO:tensorflow:Done calling model_fn.\n",
            "INFO:tensorflow:Create CheckpointSaverHook.\n",
            "INFO:tensorflow:Graph was finalized.\n",
            "INFO:tensorflow:Restoring parameters from ./tmp/mnist_model_gpu_bigger/model.ckpt-2000\n",
            "INFO:tensorflow:Running local_init_op.\n"
          ],
          "name": "stdout"
        },
        {
          "output_type": "stream",
          "text": [
            "INFO:tensorflow:Done running local_init_op.\n",
            "INFO:tensorflow:Saving checkpoints for 2000 into ./tmp/mnist_model_gpu_bigger/model.ckpt.\n",
            "INFO:tensorflow:loss = 21.489805, step = 2000\n",
            "INFO:tensorflow:global_step/sec: 155.273\n",
            "INFO:tensorflow:loss = 10.392931, step = 2100 (0.652 sec)\n",
            "INFO:tensorflow:global_step/sec: 188.103\n",
            "INFO:tensorflow:loss = 29.504414, step = 2200 (0.533 sec)\n",
            "INFO:tensorflow:global_step/sec: 159.769\n",
            "INFO:tensorflow:loss = 10.427475, step = 2300 (0.621 sec)\n",
            "INFO:tensorflow:global_step/sec: 176.82\n",
            "INFO:tensorflow:loss = 22.07013, step = 2400 (0.564 sec)\n",
            "INFO:tensorflow:global_step/sec: 180.425\n",
            "INFO:tensorflow:loss = 16.559418, step = 2500 (0.557 sec)\n",
            "INFO:tensorflow:global_step/sec: 169.481\n",
            "INFO:tensorflow:loss = 29.09889, step = 2600 (0.588 sec)\n",
            "INFO:tensorflow:global_step/sec: 202.194\n",
            "INFO:tensorflow:loss = 21.48421, step = 2700 (0.493 sec)\n",
            "INFO:tensorflow:global_step/sec: 224.204\n",
            "INFO:tensorflow:loss = 12.829229, step = 2800 (0.447 sec)\n",
            "INFO:tensorflow:global_step/sec: 152.221\n",
            "INFO:tensorflow:loss = 17.870205, step = 2900 (0.662 sec)\n",
            "INFO:tensorflow:Saving checkpoints for 3000 into ./tmp/mnist_model_gpu_bigger/model.ckpt.\n",
            "INFO:tensorflow:Loss for final step: 11.722351.\n",
            "INFO:tensorflow:Calling model_fn.\n",
            "INFO:tensorflow:Done calling model_fn.\n",
            "INFO:tensorflow:Create CheckpointSaverHook.\n",
            "INFO:tensorflow:Graph was finalized.\n",
            "INFO:tensorflow:Restoring parameters from ./tmp/mnist_model_gpu_bigger/model.ckpt-3000\n",
            "INFO:tensorflow:Running local_init_op.\n",
            "INFO:tensorflow:Done running local_init_op.\n",
            "INFO:tensorflow:Saving checkpoints for 3000 into ./tmp/mnist_model_gpu_bigger/model.ckpt.\n",
            "INFO:tensorflow:loss = 20.281147, step = 3000\n",
            "INFO:tensorflow:global_step/sec: 143.119\n",
            "INFO:tensorflow:loss = 27.724667, step = 3100 (0.710 sec)\n",
            "INFO:tensorflow:global_step/sec: 151.336\n",
            "INFO:tensorflow:loss = 22.163754, step = 3200 (0.657 sec)\n",
            "INFO:tensorflow:global_step/sec: 175.435\n",
            "INFO:tensorflow:loss = 13.497754, step = 3300 (0.565 sec)\n",
            "INFO:tensorflow:global_step/sec: 162.025\n",
            "INFO:tensorflow:loss = 29.395454, step = 3400 (0.631 sec)\n",
            "INFO:tensorflow:global_step/sec: 167.891\n",
            "INFO:tensorflow:loss = 21.763542, step = 3500 (0.581 sec)\n",
            "INFO:tensorflow:global_step/sec: 192.227\n",
            "INFO:tensorflow:loss = 20.98003, step = 3600 (0.520 sec)\n",
            "INFO:tensorflow:global_step/sec: 169.391\n",
            "INFO:tensorflow:loss = 13.638248, step = 3700 (0.594 sec)\n",
            "INFO:tensorflow:global_step/sec: 179.574\n",
            "INFO:tensorflow:loss = 17.860247, step = 3800 (0.553 sec)\n",
            "INFO:tensorflow:global_step/sec: 164.641\n",
            "INFO:tensorflow:loss = 14.109323, step = 3900 (0.615 sec)\n",
            "INFO:tensorflow:Saving checkpoints for 4000 into ./tmp/mnist_model_gpu_bigger/model.ckpt.\n",
            "INFO:tensorflow:Loss for final step: 11.406118.\n",
            "1 loop, best of 3: 7.52 s per loop\n"
          ],
          "name": "stdout"
        }
      ]
    },
    {
      "metadata": {
        "id": "Gc2NNKvmZupf",
        "colab_type": "code",
        "colab": {}
      },
      "cell_type": "code",
      "source": [
        ""
      ],
      "execution_count": 0,
      "outputs": []
    }
  ]
}